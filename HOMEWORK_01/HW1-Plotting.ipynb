{
 "cells": [
  {
   "cell_type": "markdown",
   "metadata": {},
   "source": [
    "### Advertising Efficiency Analysis"
   ]
  },
  {
   "cell_type": "code",
   "execution_count": null,
   "metadata": {},
   "outputs": [],
   "source": [
    "import pandas as pd\n",
    "import matplotlib.pyplot as plt\n",
    "import numpy as np\n",
    "from sklearn.model_selection import train_test_split"
   ]
  },
  {
   "cell_type": "code",
   "execution_count": 3,
   "metadata": {},
   "outputs": [],
   "source": [
    "import pandas as pd\n",
    "import matplotlib.pyplot as plt\n",
    "import numpy as np\n",
    "from sklearn.model_selection import train_test_split"
   ]
  },
  {
   "cell_type": "code",
   "execution_count": null,
   "metadata": {},
   "outputs": [],
   "source": [
    "ADV #Sales of each product in 200 different markets and adv bugets for every product "
   ]
  },
  {
   "cell_type": "code",
   "execution_count": 33,
   "metadata": {},
   "outputs": [],
   "source": [
    "TV_SALES = ADV[['TV','sales']]\n",
    "RADIO_SALES = ADV[['radio','sales']]\n",
    "NEWSPAPER_SALES = ADV[['newspaper','sales']]"
   ]
  },
  {
   "cell_type": "markdown",
   "metadata": {},
   "source": [
    "#### Train-Test Split"
   ]
  },
  {
   "cell_type": "code",
   "execution_count": 200,
   "metadata": {},
   "outputs": [],
   "source": [
    "TV_SALES_TRAIN,TV_SALES_TEST = train_test_split(TV_SALES,test_size = 0.5, random_state = 42)"
   ]
  },
  {
   "cell_type": "markdown",
   "metadata": {},
   "source": [
    "#### KNN"
   ]
  },
  {
   "cell_type": "markdown",
   "metadata": {},
   "source": [
    "##### Brute-Force Version"
   ]
  },
  {
   "cell_type": "code",
   "execution_count": 248,
   "metadata": {},
   "outputs": [],
   "source": [
    "def KNN_PREDICTION_BF(PRODUCT_SALES , PRODUCT , Q , K):\n",
    "    ANS = pd.DataFrame(columns = ['INDEX','DIST'])\n",
    "    P_S = PRODUCT_SALES.sort_values(by = PRODUCT , axis = 0 , ascending = True)\n",
    "    for index in P_S.index:       \n",
    "        DIST = abs(P_S.loc[index][PRODUCT] - Q)\n",
    "        ANS = ANS.append({'INDEX':index,'DIST':DIST},ignore_index = True)\n",
    "    ANS = ANS.sort_values(by = 'DIST' , axis = 0 ,  ascending = True)\n",
    "    #print(ANS)\n",
    "    TIME=0\n",
    "    PREDICTION = 0\n",
    "    for idx in ANS.index:\n",
    "        TIME += 1\n",
    "        PREDICTION += P_S.loc[ANS.loc[idx]['INDEX']]['sales']\n",
    "        if TIME == K:\n",
    "            break\n",
    "            #print(ANS)\n",
    "    PREDICTION /= K;\n",
    "    return PREDICTION            "
   ]
  },
  {
   "cell_type": "markdown",
   "metadata": {},
   "source": [
    "##### A Smarter Version 0.1"
   ]
  },
  {
   "cell_type": "code",
   "execution_count": 247,
   "metadata": {},
   "outputs": [],
   "source": [
    "def KNN_PREDICTION(PRODUCT_SALES , PRODUCT , Q , K):\n",
    "    ANS = pd.DataFrame(columns = ['INDEX','DIST'])\n",
    "    P_S = PRODUCT_SALES.sort_values(by = PRODUCT , axis = 0 , ascending = True)\n",
    "    for index in range(0,100):\n",
    "        if P_S.loc[P_S.index[index]][PRODUCT] <= Q and P_S.loc[P_S.index[index+1]][PRODUCT] > Q:\n",
    "            #print(P_S.loc[P_S.index[index]])\n",
    "            \n",
    "            \n",
    "            idx = 0;\n",
    "            for cnt in range(1,K+1):\n",
    "                DIST = abs(P_S.loc[P_S.index[index-(cnt-1)]][PRODUCT] - Q)\n",
    "                ANS = ANS.append({'INDEX':index-(cnt-1),'DIST':DIST},ignore_index = True)\n",
    "                DIST = abs(P_S.loc[P_S.index[index+cnt]][PRODUCT] - Q)\n",
    "                ANS = ANS.append({'INDEX':index+cnt,'DIST':DIST},ignore_index = True)\n",
    "            \n",
    "            \n",
    "            \n",
    "            ANS = ANS.sort_values(by = 'DIST' , axis = 0 ,  ascending = True)\n",
    "            TIME=0\n",
    "            PREDICTION = 0\n",
    "            for idx in ANS.index:\n",
    "                TIME += 1\n",
    "                PREDICTION += P_S.loc[P_S.index[ANS.loc[idx]['INDEX']]]['sales']\n",
    "                if TIME == K:\n",
    "                    break\n",
    "            #print(ANS)\n",
    "            PREDICTION /= K;\n",
    "            return PREDICTION            "
   ]
  },
  {
   "cell_type": "code",
   "execution_count": 249,
   "metadata": {},
   "outputs": [
    {
     "data": {
      "text/plain": [
       "16.133333333333336"
      ]
     },
     "execution_count": 249,
     "metadata": {},
     "output_type": "execute_result"
    }
   ],
   "source": [
    "KNN_PREDICTION(TV_SALES_TRAIN , 'TV' , 130 , 3)"
   ]
  },
  {
   "cell_type": "markdown",
   "metadata": {},
   "source": [
    "#### Calculate RMSE-k"
   ]
  },
  {
   "cell_type": "code",
   "execution_count": 254,
   "metadata": {},
   "outputs": [
    {
     "name": "stdout",
     "output_type": "stream",
     "text": [
      "     K      RMSE\n",
      "0  1.0  4.147095\n",
      "1  2.0  3.552098\n",
      "2  3.0  3.497310\n",
      "3  4.0  3.401009\n",
      "4  5.0  3.240705\n",
      "5  6.0  3.178620\n",
      "6  7.0  3.033136\n",
      "7  8.0  3.026759\n",
      "8  9.0  3.030465\n"
     ]
    }
   ],
   "source": [
    "RESULTS = pd.DataFrame(columns = ['K','RMSE'])\n",
    "for K in range(1,10):\n",
    "    SUM = 0\n",
    "    for idx in TV_SALES_TEST.index:\n",
    "        #print(TV_SALES_TEST.loc[idx]['TV'])\n",
    "        A = TV_SALES_TEST.loc[idx]['sales'] - KNN_PREDICTION_BF(TV_SALES_TRAIN , 'TV' , TV_SALES_TEST.loc[idx]['TV'] , K)\n",
    "        SUM += pow(A,2)\n",
    "    SUM /= 100\n",
    "    RMSE = np.sqrt(SUM)\n",
    "    RESULTS = RESULTS.append({'K':K,'RMSE':RMSE},ignore_index = True)\n",
    "print(RESULTS)\n"
   ]
  },
  {
   "cell_type": "code",
   "execution_count": 272,
   "metadata": {},
   "outputs": [
    {
     "data": {
      "image/png": "[encoded data removed]",
      "text/plain": [
       "<Figure size 432x288 with 1 Axes>"
      ]
     },
     "metadata": {
      "needs_background": "light"
     },
     "output_type": "display_data"
    }
   ],
   "source": [
    "plt.plot(RESULTS.K,RESULTS.RMSE, '*-' , markersize = 10 , color = 'k')\n",
    "plt.legend()\n",
    "plt.title('Test Data')\n",
    "plt.xlabel('K')\n",
    "plt.ylabel('RMSE')\n",
    "plt.savefig('RMSE-K Curve',dpi=300)"
   ]
  },
  {
   "cell_type": "code",
   "execution_count": null,
   "metadata": {},
   "outputs": [],
   "source": []
  }
 ],
 "metadata": {
  "kernelspec": {
   "display_name": "Python 3",
   "language": "python",
   "name": "python3"
  },
  "language_info": {
   "codemirror_mode": {
    "name": "ipython",
    "version": 3
   },
   "file_extension": ".py",
   "mimetype": "text/x-python",
   "name": "python",
   "nbconvert_exporter": "python",
   "pygments_lexer": "ipython3",
   "version": "3.7.3"
  }
 },
 "nbformat": 4,
 "nbformat_minor": 2
}
